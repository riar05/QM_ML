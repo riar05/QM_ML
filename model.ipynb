import numpy as np
import pandas as pd
import matplotlib.pyplot as plt
import seaborn as sns
from sklearn.ensemble import RandomForestRegressor, GradientBoostingRegressor
from sklearn.model_selection import train_test_split, cross_val_score
from sklearn.metrics import mean_squared_error, r2_score, mean_absolute_error
from sklearn.preprocessing import StandardScaler
import pickle
import os
from tqdm import tqdm
import warnings
warnings.filterwarnings('ignore')

# Quantum Chemistry Libraries
try:
    import psi4
    PSI4_AVAILABLE = True
except ImportError:
    PSI4_AVAILABLE = False
    print("Psi4 not available. Using mock QM data for demonstration.")

# RDKit imports
from rdkit import Chem
from rdkit.Chem import rdMolTransforms, AllChem, Descriptors, rdMolDescriptors
from rdkit.Chem import Draw
from rdkit.Chem.Draw import IPythonConsole
IPythonConsole.ipython_useSVG = True

# Optional: ASE for more QM interfaces
try:
    from ase import Atoms
    from ase.calculators.gaussian import Gaussian
    ASE_AVAILABLE = True
except ImportError:
    ASE_AVAILABLE = False

class QuantumChemicalDataGenerator:
    """Generate quantum chemical data for training"""
    
    def __init__(self, method='B3LYP', basis='6-31G*'):
        self.method = method
        self.basis = basis
        self.qm_data = []
        
    def generate_qm_data_mock(self, molecules_smiles):
        """Mock QM data generation for demonstration"""
        print("Generating mock QM data (replace with real QM calculations)")
        qm_data = []
        
        for i, smiles in enumerate(tqdm(molecules_smiles, desc="Computing QM properties")):
            mol = Chem.MolFromSmiles(smiles)
            mol = Chem.AddHs(mol)
            
            # Generate multiple conformers
            conformers = self._generate_conformers(mol, num_conformers=5)
            
            for conf_id, mol_conf in enumerate(conformers):
                # Mock QM energies (in reality, run DFT calculations)
                total_energy = np.random.normal(-100.0, 10.0)  # Hartrees
                
                # Mock bond properties from "QM calculations"
                bond_data = self._extract_qm_bond_properties(mol_conf, total_energy)
                
                for bond_info in bond_data:
                    bond_info.update({
                        'molecule_idx': i,
                        'conformer_idx': conf_id,
                        'smiles': smiles,
                        'total_energy': total_energy,
                        'method': self.method,
                        'basis': self.basis
                    })
                    qm_data.append(bond_info)
        
        return pd.DataFrame(qm_data)
    
    def generate_qm_data_psi4(self, molecules_smiles):
        """Generate real QM data using Psi4"""
        if not PSI4_AVAILABLE:
            return self.generate_qm_data_mock(molecules_smiles)
            
        psi4.set_memory('2 GB')
        psi4.set_num_threads(4)
        
        qm_data = []
        
        for i, smiles in enumerate(tqdm(molecules_smiles, desc="QM calculations")):
            try:
                mol = Chem.MolFromSmiles(smiles)
                mol = Chem.AddHs(mol)
                
                # Generate conformers
                conformers = self._generate_conformers(mol, num_conformers=3)
                
                for conf_id, mol_conf in enumerate(conformers):
                    # Convert to Psi4 format
                    geometry = self._mol_to_psi4_geometry(mol_conf)
                    
                    # Run QM calculation
                    psi4.geometry(geometry)
                    energy = psi4.energy(f'{self.method}/{self.basis}')
                    
                    # Get optimized geometry
                    psi4.optimize(f'{self.method}/{self.basis}')
                    optimized_geom = psi4.core.get_active_molecule()
                    
                    # Extract bond properties
                    bond_data = self._extract_qm_bond_properties_psi4(
                        mol_conf, optimized_geom, energy
                    )
                    
                    for bond_info in bond_data:
                        bond_info.update({
                            'molecule_idx': i,
                            'conformer_idx': conf_id,
                            'smiles': smiles,
                            'total_energy': energy,
                            'method': self.method,
                            'basis': self.basis
                        })
                        qm_data.append(bond_info)
                        
            except Exception as e:
                print(f"Error processing {smiles}: {e}")
                continue
                
        return pd.DataFrame(qm_data)
    
    def _generate_conformers(self, mol, num_conformers=5):
        """Generate multiple conformers for a molecule"""
        conformers = []
        
        # Generate conformers
        conf_ids = AllChem.EmbedMultipleConfs(
            mol, numConfs=num_conformers, randomSeed=42
        )
        
        # Optimize each conformer
        for conf_id in conf_ids:
            try:
                AllChem.MMFFOptimizeMolecule(mol, confId=conf_id)
                conformers.append(mol)
            except:
                continue
                
        return conformers if conformers else [mol]
    
    def _extract_qm_bond_properties(self, mol, total_energy):
        """Extract bond properties from QM calculations (mock version)"""
        bond_data = []
        conf = mol.GetConformer()
        
        for bond in mol.GetBonds():
            atom1_idx = bond.GetBeginAtomIdx()
            atom2_idx = bond.GetEndAtomIdx()
            atom1 = bond.GetBeginAtom()
            atom2 = bond.GetEndAtom()
            
            # Mock QM-derived properties
            bond_length = rdMolTransforms.GetBondLength(conf, atom1_idx, atom2_idx)
            
            # Mock QM force constant (from frequency analysis)
            qm_force_constant = np.random.normal(500.0, 100.0)  # kcal/mol/Å²
            
            # Mock bond dissociation energy
            bond_dissociation_energy = np.random.normal(80.0, 20.0)  # kcal/mol
            
            # Mock Wiberg bond order (from QM electron density)
            wiberg_bond_order = bond.GetBondTypeAsDouble() + np.random.normal(0, 0.1)
            
            bond_info = {
                'atom1_idx': atom1_idx,
                'atom2_idx': atom2_idx,
                'atom1_element': atom1.GetSymbol(),
                'atom2_element': atom2.GetSymbol(),
                'atom1_atomic_num': atom1.GetAtomicNum(),
                'atom2_atomic_num': atom2.GetAtomicNum(),
                'bond_type': float(bond.GetBondTypeAsDouble()),
                'bond_length_qm': bond_length,
                'force_constant_qm': qm_force_constant,
                'bond_dissociation_energy_qm': bond_dissociation_energy,
                'wiberg_bond_order': wiberg_bond_order,
                'is_conjugated': int(bond.GetIsConjugated()),
                'is_in_ring': int(bond.IsInRing()),
                'atom1_partial_charge': np.random.normal(0, 0.3),  # Mock Mulliken charges
                'atom2_partial_charge': np.random.normal(0, 0.3),
                # Add more QM-derived features
                'atom1_hybridization': int(atom1.GetHybridization()),
                'atom2_hybridization': int(atom2.GetHybridization()),
                'atom1_degree': atom1.GetDegree(),
                'atom2_degree': atom2.GetDegree(),
            }
            
            bond_data.append(bond_info)
            
        return bond_data
    
    def _mol_to_psi4_geometry(self, mol):
        """Convert RDKit molecule to Psi4 geometry string"""
        conf = mol.GetConformer()
        geometry_lines = []
        
        for atom in mol.GetAtoms():
            pos = conf.GetAtomPosition(atom.GetIdx())
            symbol = atom.GetSymbol()
            geometry_lines.append(f"{symbol} {pos.x:.6f} {pos.y:.6f} {pos.z:.6f}")
            
        return "\n".join(geometry_lines)

class QuantumForceFieldOptimizer:
    """Main class for optimizing force field parameters using QM data"""
    
    def __init__(self):
        self.qm_data = None
        self.models = {}
        self.scalers = {}
        self.feature_importance = {}
        
    def load_qm_data(self, molecules_smiles, use_real_qm=False):
        """Load or generate quantum chemical data"""
        qm_generator = QuantumChemicalDataGenerator()
        
        if use_real_qm and PSI4_AVAILABLE:
            print("Using real QM calculations with Psi4...")
            self.qm_data = qm_generator.generate_qm_data_psi4(molecules_smiles)
        else:
            print("Using mock QM data for demonstration...")
            self.qm_data = qm_generator.generate_qm_data_mock(molecules_smiles)
            
        print(f"Generated QM data for {len(self.qm_data)} bond configurations")
        return self.qm_data
    
    def prepare_features(self, target_properties=None):
        """Prepare features for machine learning"""
        if target_properties is None:
            target_properties = ['force_constant_qm', 'bond_length_qm', 
                               'bond_dissociation_energy_qm']
        
        # Feature columns for ML
        feature_cols = [
            'bond_type', 'is_conjugated', 'is_in_ring',
            'atom1_atomic_num', 'atom2_atomic_num',
            'atom1_degree', 'atom2_degree',
            'atom1_hybridization', 'atom2_hybridization',
            'atom1_partial_charge', 'atom2_partial_charge',
            'wiberg_bond_order'
        ]
        
        # Handle categorical features
        categorical_features = ['atom1_element', 'atom2_element']
        
        # Create feature matrix
        X = pd.get_dummies(
            self.qm_data[feature_cols + categorical_features],
            columns=categorical_features,
            drop_first=False
        )
        
        # Prepare target variables
        targets = {}
        for prop in target_properties:
            if prop in self.qm_data.columns:
                targets[prop] = self.qm_data[prop].dropna()
                
        return X, targets
    
    def train_models(self, X, targets, test_size=0.2):
        """Train ML models for different force field parameters"""
        results = {}
        
        for target_name, y in targets.items():
            print(f"\nTraining model for {target_name}...")
            
            # Align X and y (handle missing values)
            valid_indices = y.index
            X_target = X.loc[valid_indices]
            
            # Split data
            X_train, X_test, y_train, y_test = train_test_split(
                X_target, y, test_size=test_size, random_state=42
            )
            
            # Scale features
            scaler = StandardScaler()
            X_train_scaled = scaler.fit_transform(X_train)
            X_test_scaled = scaler.transform(X_test)
            
            # Train multiple models
            models = {
                'RandomForest': RandomForestRegressor(
                    n_estimators=200, max_depth=15, random_state=42
                ),
                'GradientBoosting': GradientBoostingRegressor(
                    n_estimators=200, max_depth=8, random_state=42
                )
            }
            
            best_model = None
            best_score = -np.inf
            
            for model_name, model in models.items():
                # Train model
                model.fit(X_train_scaled, y_train)
                
                # Evaluate
                y_pred = model.predict(X_test_scaled)
                r2 = r2_score(y_test, y_pred)
                mse = mean_squared_error(y_test, y_pred)
                mae = mean_absolute_error(y_test, y_pred)
                
                print(f"  {model_name}: R² = {r2:.4f}, MSE = {mse:.4f}, MAE = {mae:.4f}")
                
                if r2 > best_score:
                    best_score = r2
                    best_model = model
                    
            # Store best model and scaler
            self.models[target_name] = best_model
            self.scalers[target_name] = scaler
            
            # Store feature importance
            if hasattr(best_model, 'feature_importances_'):
                self.feature_importance[target_name] = pd.DataFrame({
                    'feature': X_target.columns,
                    'importance': best_model.feature_importances_
                }).sort_values('importance', ascending=False)
            
            # Store results
            results[target_name] = {
                'model': best_model,
                'r2_score': best_score,
                'mse': mse,
                'mae': mae,
                'y_test': y_test,
                'y_pred': model.predict(X_test_scaled)
            }
            
        return results
    
    def validate_against_qm(self, test_molecules_smiles):
        """Validate trained models against new QM calculations"""
        print("\nValidating against new QM data...")
        
        # Generate QM data for test molecules
        qm_generator = QuantumChemicalDataGenerator()
        test_qm_data = qm_generator.generate_qm_data_mock(test_molecules_smiles)
        
        # Prepare features
        X_test, targets_test = self._prepare_test_features(test_qm_data)
        
        validation_results = {}
        
        for target_name, model in self.models.items():
            if target_name in targets_test:
                y_true = targets_test[target_name]
                
                # Scale features
                scaler = self.scalers[target_name]
                X_test_scaled = scaler.transform(X_test.loc[y_true.index])
                
                # Predict
                y_pred = model.predict(X_test_scaled)
                
                # Calculate metrics
                r2 = r2_score(y_true, y_pred)
                mse = mean_squared_error(y_true, y_pred)
                mae = mean_absolute_error(y_true, y_pred)
                
                validation_results[target_name] = {
                    'r2_score': r2,
                    'mse': mse,
                    'mae': mae,
                    'y_true': y_true,
                    'y_pred': y_pred
                }
                
                print(f"{target_name} validation: R² = {r2:.4f}, MSE = {mse:.4f}")
                
        return validation_results
    
    def _prepare_test_features(self, test_data):
        """Prepare test features in the same format as training data"""
        feature_cols = [
            'bond_type', 'is_conjugated', 'is_in_ring',
            'atom1_atomic_num', 'atom2_atomic_num',
            'atom1_degree', 'atom2_degree',
            'atom1_hybridization', 'atom2_hybridization',
            'atom1_partial_charge', 'atom2_partial_charge',
            'wiberg_bond_order'
        ]
        
        categorical_features = ['atom1_element', 'atom2_element']
        
        X = pd.get_dummies(
            test_data[feature_cols + categorical_features],
            columns=categorical_features,
            drop_first=False
        )
        
        # Ensure same columns as training data
        training_columns = list(self.models.values())[0].feature_names_in_
        for col in training_columns:
            if col not in X.columns:
                X[col] = 0
        X = X[training_columns]
        
        targets = {}
        target_properties = ['force_constant_qm', 'bond_length_qm', 
                           'bond_dissociation_energy_qm']
        
        for prop in target_properties:
            if prop in test_data.columns:
                targets[prop] = test_data[prop].dropna()
                
        return X, targets
    
    def generate_optimized_force_field(self, molecule_smiles, output_file=None):
        """Generate optimized force field parameters for a molecule"""
        print(f"\nGenerating optimized force field for: {molecule_smiles}")
        
        # Create molecule
        mol = Chem.MolFromSmiles(molecule_smiles)
        mol = Chem.AddHs(mol)
        AllChem.EmbedMolecule(mol, randomSeed=42)
        AllChem.MMFFOptimizeMolecule(mol)
        
        # Extract features
        qm_generator = QuantumChemicalDataGenerator()
        mol_data = qm_generator._extract_qm_bond_properties(mol, 0.0)
        mol_df = pd.DataFrame(mol_data)
        
        # Prepare features
        X, _ = self._prepare_test_features(mol_df)
        
        # Predict parameters
        predictions = {}
        for target_name, model in self.models.items():
            scaler = self.scalers[target_name]
            X_scaled = scaler.transform(X)
            pred = model.predict(X_scaled)
            predictions[target_name] = pred
            
        # Create force field parameter file
        if output_file:
            self._write_force_field_file(mol, predictions, molecule_smiles, output_file)
            
        return predictions
    
    def _write_force_field_file(self, mol, predictions, smiles, filename):
        """Write optimized force field parameters to file"""
        with open(filename, 'w') as f:
            f.write("# Quantum-Mechanical Machine Learning Force Field\n")
            f.write(f"# Generated for SMILES: {smiles}\n")
            f.write(f"# Training method: QM-ML optimization\n\n")
            
            # Atom types
            f.write("ATOMS\n")
            for atom in mol.GetAtoms():
                f.write(f"{atom.GetIdx():<4} {atom.GetSymbol():<2} "
                       f"{atom.GetAtomicNum():<3}\n")
            
            # Bond parameters
            f.write("\nBONDS\n")
            f.write("# atom1 atom2 force_constant(kcal/mol/Å²) eq_length(Å) "
                   "dissoc_energy(kcal/mol)\n")
            
            for i, bond in enumerate(mol.GetBonds()):
                atom1_idx = bond.GetBeginAtomIdx()
                atom2_idx = bond.GetEndAtomIdx()
                
                fc = predictions.get('force_constant_qm', [0])[i] if i < len(predictions.get('force_constant_qm', [])) else 0
                bl = predictions.get('bond_length_qm', [0])[i] if i < len(predictions.get('bond_length_qm', [])) else 0
                be = predictions.get('bond_dissociation_energy_qm', [0])[i] if i < len(predictions.get('bond_dissociation_energy_qm', [])) else 0
                
                f.write(f"{atom1_idx:<5} {atom2_idx:<5} {fc:>8.4f} {bl:>8.4f} {be:>8.4f}\n")
                    
        print(f"Force field written to {filename}")
    
    def plot_results(self, results, validation_results=None):
        """Plot training and validation results"""
        n_targets = len(results)
        fig, axes = plt.subplots(2, n_targets, figsize=(5*n_targets, 10))
        
        if n_targets == 1:
            axes = axes.reshape(2, 1)
        
        for i, (target_name, result) in enumerate(results.items()):
            # Training results
            ax1 = axes[0, i]
            y_true = result['y_test']
            y_pred = result['y_pred']
            
            ax1.scatter(y_true, y_pred, alpha=0.6)
            min_val, max_val = min(y_true.min(), y_pred.min()), max(y_true.max(), y_pred.max())
            ax1.plot([min_val, max_val], [min_val, max_val], 'r--')
            ax1.set_xlabel('QM True Values')
            ax1.set_ylabel('ML Predicted Values')
            ax1.set_title(f'{target_name} - Training\nR² = {result["r2_score"]:.4f}')
            ax1.grid(True, alpha=0.3)
            
            # Validation results
            if validation_results and target_name in validation_results:
                ax2 = axes[1, i]
                val_result = validation_results[target_name]
                y_true_val = val_result['y_true']
                y_pred_val = val_result['y_pred']
                
                ax2.scatter(y_true_val, y_pred_val, alpha=0.6, color='orange')
                min_val = min(y_true_val.min(), y_pred_val.min())
                max_val = max(y_true_val.max(), y_pred_val.max())
                ax2.plot([min_val, max_val], [min_val, max_val], 'r--')
                ax2.set_xlabel('QM True Values')
                ax2.set_ylabel('ML Predicted Values')
                ax2.set_title(f'{target_name} - Validation\nR² = {val_result["r2_score"]:.4f}')
                ax2.grid(True, alpha=0.3)
            else:
                axes[1, i].text(0.5, 0.5, 'No Validation Data', 
                               ha='center', va='center', transform=axes[1, i].transAxes)
                axes[1, i].set_title(f'{target_name} - Validation')
        
        plt.tight_layout()
        plt.show()
    
    def plot_feature_importance(self, target_name, top_n=15):
        """Plot feature importance for a specific target"""
        if target_name not in self.feature_importance:
            print(f"No feature importance data for {target_name}")
            return
            
        importance_df = self.feature_importance[target_name].head(top_n)
        
        plt.figure(figsize=(12, 8))
        sns.barplot(data=importance_df, x='importance', y='feature')
        plt.title(f'Feature Importance - {target_name}')
        plt.xlabel('Importance')
        plt.tight_layout()
        plt.show()
    
    def save_models(self, filename_prefix="qm_ff_model"):
        """Save trained models and scalers"""
        for target_name, model in self.models.items():
            model_file = f"{filename_prefix}_{target_name}_model.pkl"
            scaler_file = f"{filename_prefix}_{target_name}_scaler.pkl"
            
            with open(model_file, 'wb') as f:
                pickle.dump(model, f)
            with open(scaler_file, 'wb') as f:
                pickle.dump(self.scalers[target_name], f)
                
        print(f"Models saved with prefix: {filename_prefix}")

# Example usage workflow
def main_workflow():
    """Main workflow demonstrating the QM-ML force field optimization"""
    
    # Initialize optimizer
    optimizer = QuantumForceFieldOptimizer()
    
    # Define training molecules (diverse chemical space)
    training_molecules = [
        'CCO',         # Ethanol
        'CCCO',        # 1-Propanol  
        'CC(C)O',      # 2-Propanol
        'CC(=O)O',     # Acetic acid
        'c1ccccc1O',   # Phenol
        'c1ccccc1',    # Benzene
        'CCN',         # Ethylamine
        'C=C',         # Ethylene
        'C#C',         # Acetylene
        'CC=O',        # Acetaldehyde
        'CC(=O)C',     # Acetone
        'CS',          # Methanethiol
        'Cc1ccccc1',   # Toluene
        'c1ccc2ccccc2c1', # Naphthalene
        'CC(=O)N',     # Acetamide
        'CCc1ccccc1',  # Ethylbenzene
        'CC(C)(C)O',   # tert-Butanol
        'C1CCC(O)CC1', # Cyclohexanol
        'Oc1ccccc1O',  # Catechol
        'CC(=O)OC'     # Methyl acetate
    ]
    
    # Load/generate QM data
    print("Step 1: Generating quantum chemical data...")
    qm_data = optimizer.load_qm_data(training_molecules, use_real_qm=False)
    
    # Prepare features and targets
    print("\nStep 2: Preparing features for machine learning...")
    X, targets = optimizer.prepare_features()
    
    # Train models
    print("\nStep 3: Training ML models...")
    results = optimizer.train_models(X, targetsimport numpy as np
import pandas as pd
import matplotlib.pyplot as plt
import seaborn as sns
from sklearn.ensemble import RandomForestRegressor, GradientBoostingRegressor
from sklearn.model_selection import train_test_split, cross_val_score
from sklearn.metrics import mean_squared_error, r2_score, mean_absolute_error
from sklearn.preprocessing import StandardScaler
import pickle
import os
from tqdm import tqdm
import warnings
warnings.filterwarnings('ignore')

# Quantum Chemistry Libraries
try:
    import psi4
    PSI4_AVAILABLE = True
except ImportError:
    PSI4_AVAILABLE = False
    print("Psi4 not available. Using mock QM data for demonstration.")

# RDKit imports
from rdkit import Chem
from rdkit.Chem import rdMolTransforms, AllChem, Descriptors, rdMolDescriptors
from rdkit.Chem import Draw
from rdkit.Chem.Draw import IPythonConsole
IPythonConsole.ipython_useSVG = True

# Optional: ASE for more QM interfaces
try:
    from ase import Atoms
    from ase.calculators.gaussian import Gaussian
    ASE_AVAILABLE = True
except ImportError:
    ASE_AVAILABLE = False

class QuantumChemicalDataGenerator:
    """Generate quantum chemical data for training"""
    
    def __init__(self, method='B3LYP', basis='6-31G*'):
        self.method = method
        self.basis = basis
        self.qm_data = []
        
    def generate_qm_data_mock(self, molecules_smiles):
        """Mock QM data generation for demonstration"""
        print("Generating mock QM data (replace with real QM calculations)")
        qm_data = []
        
        for i, smiles in enumerate(tqdm(molecules_smiles, desc="Computing QM properties")):
            mol = Chem.MolFromSmiles(smiles)
            mol = Chem.AddHs(mol)
            
            # Generate multiple conformers
            conformers = self._generate_conformers(mol, num_conformers=5)
            
            for conf_id, mol_conf in enumerate(conformers):
                # Mock QM energies (in reality, run DFT calculations)
                total_energy = np.random.normal(-100.0, 10.0)  # Hartrees
                
                # Mock bond properties from "QM calculations"
                bond_data = self._extract_qm_bond_properties(mol_conf, total_energy)
                
                for bond_info in bond_data:
                    bond_info.update({
                        'molecule_idx': i,
                        'conformer_idx': conf_id,
                        'smiles': smiles,
                        'total_energy': total_energy,
                        'method': self.method,
                        'basis': self.basis
                    })
                    qm_data.append(bond_info)
        
        return pd.DataFrame(qm_data)
    
    def generate_qm_data_psi4(self, molecules_smiles):
        """Generate real QM data using Psi4"""
        if not PSI4_AVAILABLE:
            return self.generate_qm_data_mock(molecules_smiles)
            
        psi4.set_memory('2 GB')
        psi4.set_num_threads(4)
        
        qm_data = []
        
        for i, smiles in enumerate(tqdm(molecules_smiles, desc="QM calculations")):
            try:
                mol = Chem.MolFromSmiles(smiles)
                mol = Chem.AddHs(mol)
                
                # Generate conformers
                conformers = self._generate_conformers(mol, num_conformers=3)
                
                for conf_id, mol_conf in enumerate(conformers):
                    # Convert to Psi4 format
                    geometry = self._mol_to_psi4_geometry(mol_conf)
                    
                    # Run QM calculation
                    psi4.geometry(geometry)
                    energy = psi4.energy(f'{self.method}/{self.basis}')
                    
                    # Get optimized geometry
                    psi4.optimize(f'{self.method}/{self.basis}')
                    optimized_geom = psi4.core.get_active_molecule()
                    
                    # Extract bond properties
                    bond_data = self._extract_qm_bond_properties_psi4(
                        mol_conf, optimized_geom, energy
                    )
                    
                    for bond_info in bond_data:
                        bond_info.update({
                            'molecule_idx': i,
                            'conformer_idx': conf_id,
                            'smiles': smiles,
                            'total_energy': energy,
                            'method': self.method,
                            'basis': self.basis
                        })
                        qm_data.append(bond_info)
                        
            except Exception as e:
                print(f"Error processing {smiles}: {e}")
                continue
                
        return pd.DataFrame(qm_data)
    
    def _generate_conformers(self, mol, num_conformers=5):
        """Generate multiple conformers for a molecule"""
        conformers = []
        
        # Generate conformers
        conf_ids = AllChem.EmbedMultipleConfs(
            mol, numConfs=num_conformers, randomSeed=42
        )
        
        # Optimize each conformer
        for conf_id in conf_ids:
            try:
                AllChem.MMFFOptimizeMolecule(mol, confId=conf_id)
                conformers.append(mol)
            except:
                continue
                
        return conformers if conformers else [mol]
    
    def _extract_qm_bond_properties(self, mol, total_energy):
        """Extract bond properties from QM calculations (mock version)"""
        bond_data = []
        conf = mol.GetConformer()
        
        for bond in mol.GetBonds():
            atom1_idx = bond.GetBeginAtomIdx()
            atom2_idx = bond.GetEndAtomIdx()
            atom1 = bond.GetBeginAtom()
            atom2 = bond.GetEndAtom()
            
            # Mock QM-derived properties
            bond_length = rdMolTransforms.GetBondLength(conf, atom1_idx, atom2_idx)
            
            # Mock QM force constant (from frequency analysis)
            qm_force_constant = np.random.normal(500.0, 100.0)  # kcal/mol/Å²
            
            # Mock bond dissociation energy
            bond_dissociation_energy = np.random.normal(80.0, 20.0)  # kcal/mol
            
            # Mock Wiberg bond order (from QM electron density)
            wiberg_bond_order = bond.GetBondTypeAsDouble() + np.random.normal(0, 0.1)
            
            bond_info = {
                'atom1_idx': atom1_idx,
                'atom2_idx': atom2_idx,
                'atom1_element': atom1.GetSymbol(),
                'atom2_element': atom2.GetSymbol(),
                'atom1_atomic_num': atom1.GetAtomicNum(),
                'atom2_atomic_num': atom2.GetAtomicNum(),
                'bond_type': float(bond.GetBondTypeAsDouble()),
                'bond_length_qm': bond_length,
                'force_constant_qm': qm_force_constant,
                'bond_dissociation_energy_qm': bond_dissociation_energy,
                'wiberg_bond_order': wiberg_bond_order,
                'is_conjugated': int(bond.GetIsConjugated()),
                'is_in_ring': int(bond.IsInRing()),
                'atom1_partial_charge': np.random.normal(0, 0.3),  # Mock Mulliken charges
                'atom2_partial_charge': np.random.normal(0, 0.3),
                # Add more QM-derived features
                'atom1_hybridization': int(atom1.GetHybridization()),
                'atom2_hybridization': int(atom2.GetHybridization()),
                'atom1_degree': atom1.GetDegree(),
                'atom2_degree': atom2.GetDegree(),
            }
            
            bond_data.append(bond_info)
            
        return bond_data
    
    def _mol_to_psi4_geometry(self, mol):
        """Convert RDKit molecule to Psi4 geometry string"""
        conf = mol.GetConformer()
        geometry_lines = []
        
        for atom in mol.GetAtoms():
            pos = conf.GetAtomPosition(atom.GetIdx())
            symbol = atom.GetSymbol()
            geometry_lines.append(f"{symbol} {pos.x:.6f} {pos.y:.6f} {pos.z:.6f}")
            
        return "\n".join(geometry_lines)

class QuantumForceFieldOptimizer:
    """Main class for optimizing force field parameters using QM data"""
    
    def __init__(self):
        self.qm_data = None
        self.models = {}
        self.scalers = {}
        self.feature_importance = {}
        
    def load_qm_data(self, molecules_smiles, use_real_qm=False):
        """Load or generate quantum chemical data"""
        qm_generator = QuantumChemicalDataGenerator()
        
        if use_real_qm and PSI4_AVAILABLE:
            print("Using real QM calculations with Psi4...")
            self.qm_data = qm_generator.generate_qm_data_psi4(molecules_smiles)
        else:
            print("Using mock QM data for demonstration...")
            self.qm_data = qm_generator.generate_qm_data_mock(molecules_smiles)
            
        print(f"Generated QM data for {len(self.qm_data)} bond configurations")
        return self.qm_data
    
    def prepare_features(self, target_properties=None):
        """Prepare features for machine learning"""
        if target_properties is None:
            target_properties = ['force_constant_qm', 'bond_length_qm', 
                               'bond_dissociation_energy_qm']
        
        # Feature columns for ML
        feature_cols = [
            'bond_type', 'is_conjugated', 'is_in_ring',
            'atom1_atomic_num', 'atom2_atomic_num',
            'atom1_degree', 'atom2_degree',
            'atom1_hybridization', 'atom2_hybridization',
            'atom1_partial_charge', 'atom2_partial_charge',
            'wiberg_bond_order'
        ]
        
        # Handle categorical features
        categorical_features = ['atom1_element', 'atom2_element']
        
        # Create feature matrix
        X = pd.get_dummies(
            self.qm_data[feature_cols + categorical_features],
            columns=categorical_features,
            drop_first=False
        )
        
        # Prepare target variables
        targets = {}
        for prop in target_properties:
            if prop in self.qm_data.columns:
                targets[prop] = self.qm_data[prop].dropna()
                
        return X, targets
    
    def train_models(self, X, targets, test_size=0.2):
        """Train ML models for different force field parameters"""
        results = {}
        
        for target_name, y in targets.items():
            print(f"\nTraining model for {target_name}...")
            
            # Align X and y (handle missing values)
            valid_indices = y.index
            X_target = X.loc[valid_indices]
            
            # Split data
            X_train, X_test, y_train, y_test = train_test_split(
                X_target, y, test_size=test_size, random_state=42
            )
            
            # Scale features
            scaler = StandardScaler()
            X_train_scaled = scaler.fit_transform(X_train)
            X_test_scaled = scaler.transform(X_test)
            
            # Train multiple models
            models = {
                'RandomForest': RandomForestRegressor(
                    n_estimators=200, max_depth=15, random_state=42
                ),
                'GradientBoosting': GradientBoostingRegressor(
                    n_estimators=200, max_depth=8, random_state=42
                )
            }
            
            best_model = None
            best_score = -np.inf
            
            for model_name, model in models.items():
                # Train model
                model.fit(X_train_scaled, y_train)
                
                # Evaluate
                y_pred = model.predict(X_test_scaled)
                r2 = r2_score(y_test, y_pred)
                mse = mean_squared_error(y_test, y_pred)
                mae = mean_absolute_error(y_test, y_pred)
                
                print(f"  {model_name}: R² = {r2:.4f}, MSE = {mse:.4f}, MAE = {mae:.4f}")
                
                if r2 > best_score:
                    best_score = r2
                    best_model = model
                    
            # Store best model and scaler
            self.models[target_name] = best_model
            self.scalers[target_name] = scaler
            
            # Store feature importance
            if hasattr(best_model, 'feature_importances_'):
                self.feature_importance[target_name] = pd.DataFrame({
                    'feature': X_target.columns,
                    'importance': best_model.feature_importances_
                }).sort_values('importance', ascending=False)
            
            # Store results
            results[target_name] = {
                'model': best_model,
                'r2_score': best_score,
                'mse': mse,
                'mae': mae,
                'y_test': y_test,
                'y_pred': model.predict(X_test_scaled)
            }
            
        return results
    
    def validate_against_qm(self, test_molecules_smiles):
        """Validate trained models against new QM calculations"""
        print("\nValidating against new QM data...")
        
        # Generate QM data for test molecules
        qm_generator = QuantumChemicalDataGenerator()
        test_qm_data = qm_generator.generate_qm_data_mock(test_molecules_smiles)
        
        # Prepare features
        X_test, targets_test = self._prepare_test_features(test_qm_data)
        
        validation_results = {}
        
        for target_name, model in self.models.items():
            if target_name in targets_test:
                y_true = targets_test[target_name]
                
                # Scale features
                scaler = self.scalers[target_name]
                X_test_scaled = scaler.transform(X_test.loc[y_true.index])
                
                # Predict
                y_pred = model.predict(X_test_scaled)
                
                # Calculate metrics
                r2 = r2_score(y_true, y_pred)
                mse = mean_squared_error(y_true, y_pred)
                mae = mean_absolute_error(y_true, y_pred)
                
                validation_results[target_name] = {
                    'r2_score': r2,
                    'mse': mse,
                    'mae': mae,
                    'y_true': y_true,
                    'y_pred': y_pred
                }
                
                print(f"{target_name} validation: R² = {r2:.4f}, MSE = {mse:.4f}")
                
        return validation_results
    
    def _prepare_test_features(self, test_data):
        """Prepare test features in the same format as training data"""
        feature_cols = [
            'bond_type', 'is_conjugated', 'is_in_ring',
            'atom1_atomic_num', 'atom2_atomic_num',
            'atom1_degree', 'atom2_degree',
            'atom1_hybridization', 'atom2_hybridization',
            'atom1_partial_charge', 'atom2_partial_charge',
            'wiberg_bond_order'
        ]
        
        categorical_features = ['atom1_element', 'atom2_element']
        
        X = pd.get_dummies(
            test_data[feature_cols + categorical_features],
            columns=categorical_features,
            drop_first=False
        )
        
        # Ensure same columns as training data
        training_columns = list(self.models.values())[0].feature_names_in_
        for col in training_columns:
            if col not in X.columns:
                X[col] = 0
        X = X[training_columns]
        
        targets = {}
        target_properties = ['force_constant_qm', 'bond_length_qm', 
                           'bond_dissociation_energy_qm']
        
        for prop in target_properties:
            if prop in test_data.columns:
                targets[prop] = test_data[prop].dropna()
                
        return X, targets
    
    def generate_optimized_force_field(self, molecule_smiles, output_file=None):
        """Generate optimized force field parameters for a molecule"""
        print(f"\nGenerating optimized force field for: {molecule_smiles}")
        
        # Create molecule
        mol = Chem.MolFromSmiles(molecule_smiles)
        mol = Chem.AddHs(mol)
        AllChem.EmbedMolecule(mol, randomSeed=42)
        AllChem.MMFFOptimizeMolecule(mol)
        
        # Extract features
        qm_generator = QuantumChemicalDataGenerator()
        mol_data = qm_generator._extract_qm_bond_properties(mol, 0.0)
        mol_df = pd.DataFrame(mol_data)
        
        # Prepare features
        X, _ = self._prepare_test_features(mol_df)
        
        # Predict parameters
        predictions = {}
        for target_name, model in self.models.items():
            scaler = self.scalers[target_name]
            X_scaled = scaler.transform(X)
            pred = model.predict(X_scaled)
            predictions[target_name] = pred
            
        # Create force field parameter file
        if output_file:
            self._write_force_field_file(mol, predictions, molecule_smiles, output_file)
            
        return predictions
    
    def _write_force_field_file(self, mol, predictions, smiles, filename):
        """Write optimized force field parameters to file"""
        with open(filename, 'w') as f:
            f.write("# Quantum-Mechanical Machine Learning Force Field\n")
            f.write(f"# Generated for SMILES: {smiles}\n")
            f.write(f"# Training method: QM-ML optimization\n\n")
            
            # Atom types
            f.write("ATOMS\n")
            for atom in mol.GetAtoms():
                f.write(f"{atom.GetIdx():<4} {atom.GetSymbol():<2} "
                       f"{atom.GetAtomicNum():<3}\n")
            
            # Bond parameters
            f.write("\nBONDS\n")
            f.write("# atom1 atom2 force_constant(kcal/mol/Å²) eq_length(Å) "
                   "dissoc_energy(kcal/mol)\n")
            
            for i, bond in enumerate(mol.GetBonds()):
                atom1_idx = bond.GetBeginAtomIdx()
                atom2_idx = bond.GetEndAtomIdx()
                
                fc = predictions.get('force_constant_qm', [0])[i] if i < len(predictions.get('force_constant_qm', [])) else 0
                bl = predictions.get('bond_length_qm', [0])[i] if i < len(predictions.get('bond_length_qm', [])) else 0
                be = predictions.get('bond_dissociation_energy_qm', [0])[i] if i < len(predictions.get('bond_dissociation_energy_qm', [])) else 0
                
                f.write(f"{atom1_idx:<5} {atom2_idx:<5} {fc:>8.4f} {bl:>8.4f} {be:>8.4f}\n")
                    
        print(f"Force field written to {filename}")
    
    def plot_results(self, results, validation_results=None):
        """Plot training and validation results"""
        n_targets = len(results)
        fig, axes = plt.subplots(2, n_targets, figsize=(5*n_targets, 10))
        
        if n_targets == 1:
            axes = axes.reshape(2, 1)
        
        for i, (target_name, result) in enumerate(results.items()):
            # Training results
            ax1 = axes[0, i]
            y_true = result['y_test']
            y_pred = result['y_pred']
            
            ax1.scatter(y_true, y_pred, alpha=0.6)
            min_val, max_val = min(y_true.min(), y_pred.min()), max(y_true.max(), y_pred.max())
            ax1.plot([min_val, max_val], [min_val, max_val], 'r--')
            ax1.set_xlabel('QM True Values')
            ax1.set_ylabel('ML Predicted Values')
            ax1.set_title(f'{target_name} - Training\nR² = {result["r2_score"]:.4f}')
            ax1.grid(True, alpha=0.3)
            
            # Validation results
            if validation_results and target_name in validation_results:
                ax2 = axes[1, i]
                val_result = validation_results[target_name]
                y_true_val = val_result['y_true']
                y_pred_val = val_result['y_pred']
                
                ax2.scatter(y_true_val, y_pred_val, alpha=0.6, color='orange')
                min_val = min(y_true_val.min(), y_pred_val.min())
                max_val = max(y_true_val.max(), y_pred_val.max())
                ax2.plot([min_val, max_val], [min_val, max_val], 'r--')
                ax2.set_xlabel('QM True Values')
                ax2.set_ylabel('ML Predicted Values')
                ax2.set_title(f'{target_name} - Validation\nR² = {val_result["r2_score"]:.4f}')
                ax2.grid(True, alpha=0.3)
            else:
                axes[1, i].text(0.5, 0.5, 'No Validation Data', 
                               ha='center', va='center', transform=axes[1, i].transAxes)
                axes[1, i].set_title(f'{target_name} - Validation')
        
        plt.tight_layout()
        plt.show()
    
    def plot_feature_importance(self, target_name, top_n=15):
        """Plot feature importance for a specific target"""
        if target_name not in self.feature_importance:
            print(f"No feature importance data for {target_name}")
            return
            
        importance_df = self.feature_importance[target_name].head(top_n)
        
        plt.figure(figsize=(12, 8))
        sns.barplot(data=importance_df, x='importance', y='feature')
        plt.title(f'Feature Importance - {target_name}')
        plt.xlabel('Importance')
        plt.tight_layout()
        plt.show()
    
    def save_models(self, filename_prefix="qm_ff_model"):
        """Save trained models and scalers"""
        for target_name, model in self.models.items():
            model_file = f"{filename_prefix}_{target_name}_model.pkl"
            scaler_file = f"{filename_prefix}_{target_name}_scaler.pkl"
            
            with open(model_file, 'wb') as f:
                pickle.dump(model, f)
            with open(scaler_file, 'wb') as f:
                pickle.dump(self.scalers[target_name], f)
                
        print(f"Models saved with prefix: {filename_prefix}")

# Example usage workflow
def main_workflow():
    """Main workflow demonstrating the QM-ML force field optimization"""
    
    # Initialize optimizer
    optimizer = QuantumForceFieldOptimizer()
    
    # Define training molecules (diverse chemical space)
    training_molecules = [
        'CCO',         # Ethanol
        'CCCO',        # 1-Propanol  
        'CC(C)O',      # 2-Propanol
        'CC(=O)O',     # Acetic acid
        'c1ccccc1O',   # Phenol
        'c1ccccc1',    # Benzene
        'CCN',         # Ethylamine
        'C=C',         # Ethylene
        'C#C',         # Acetylene
        'CC=O',        # Acetaldehyde
        'CC(=O)C',     # Acetone
        'CS',          # Methanethiol
        'Cc1ccccc1',   # Toluene
        'c1ccc2ccccc2c1', # Naphthalene
        'CC(=O)N',     # Acetamide
        'CCc1ccccc1',  # Ethylbenzene
        'CC(C)(C)O',   # tert-Butanol
        'C1CCC(O)CC1', # Cyclohexanol
        'Oc1ccccc1O',  # Catechol
        'CC(=O)OC'     # Methyl acetate
    ]
    
    # Load/generate QM data
    print("Step 1: Generating quantum chemical data...")
    qm_data = optimizer.load_qm_data(training_molecules, use_real_qm=False)
    
    # Prepare features and targets
    print("\nStep 2: Preparing features for machine learning...")
    X, targets = optimizer.prepare_features()
    
    # Train models
    print("\nStep 3: Training ML models...")
    results = optimizer.train_models(X, targets)
    
    # Validate on new molecules
    test_molecules = ['CC(=O)OCC', 'c1ccc(N)cc1', 'CCc1c[nH]c2ccccc12']
    validation_results = optimizer.validate_against_qm(test_molecules)
    
    # Plot results
    print("\nStep 4: Plotting results...")
    optimizer.plot_results(results, validation_results)
    
    # Show feature importance
    for target_name in results.keys():
        optimizer.plot_feature_importance(target_name)
    
    # Generate optimized force field for a new molecule
    print("\nStep 5: Generating optimized force field...")
    new_molecule = 'CC(=O)Nc1ccccc1'  # Acetanilide
    predictions = optimizer.generate_optimized_force_field(
        new_molecule, 
        "optimized_force_field.txt"
    )
    
    # Save models
    optimizer.save_models("qm_ml_ff")
    
    print("\nWorkflow completed successfully!")
    print("Generated files:")
    print("- optimized_force_field.txt: Force field parameters")
    print("- qm_ml_ff_*_model.pkl: Trained ML models")
    print("- qm_ml_ff_*_scaler.pkl: Feature scalers")

if __name__ == "__main__":
    main_workflow())
    
    # Validate on new molecules
    test_molecules = ['CC(=O)OCC', 'c1ccc(N)cc1', 'CCc1c[nH]c2ccccc12']
    validation_results = optimizer.validate_against_qm(test_molecules)
    
    # Plot results
    print("\nStep 4: Plotting results...")
    optimizer.plot_results(results, validation_results)
    
    # Show feature importance
    for target_name in results.keys():
        optimizer.plot_feature_importance(target_name)
    
    # Generate optimized force field for a new molecule
    print("\nStep 5: Generating optimized force field...")
    new_molecule = 'CC(=O)Nc1ccccc1'  # Acetanilide
    predictions = optimizer.generate_optimized_force_field(
        new_molecule, 
        "optimized_force_field.txt"
    )
    
    # Save models
    optimizer.save_models("qm_ml_ff")
    
    print("\nWorkflow completed successfully!")
    print("Generated files:")
    print("- optimized_force_field.txt: Force field parameters")
    print("- qm_ml_ff_*_model.pkl: Trained ML models")
    print("- qm_ml_ff_*_scaler.pkl: Feature scalers")

if __name__ == "__main__":
    main_workflow()
